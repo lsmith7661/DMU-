{
 "cells": [
  {
   "cell_type": "markdown",
   "id": "c6536f72",
   "metadata": {},
   "source": [
    "# Testing out Notebook\n",
    "`cd JULIAPROJECTS`\n",
    "\n",
    "`exec '/Applications/Julia-1.5.app/Contents/Resources/julia/bin/julia'`\n",
    "\n",
    "`] activate MultiAgentEmergence`\n",
    "\n",
    "`using IJulia`\n",
    "\n",
    "`notebook(dir=pwd())`"
   ]
  },
  {
   "cell_type": "code",
   "execution_count": null,
   "id": "01e08365",
   "metadata": {},
   "outputs": [],
   "source": [
    "using MultiAgentEmergence"
   ]
  },
  {
   "cell_type": "code",
   "execution_count": null,
   "id": "a525b9ee",
   "metadata": {},
   "outputs": [],
   "source": [
    "# Hello World!\n",
    "HelloWorld"
   ]
  },
  {
   "cell_type": "code",
   "execution_count": null,
   "id": "284254e7",
   "metadata": {},
   "outputs": [],
   "source": [
    "# Example Tiger Problem\n",
    "MultiAgentEmergence.example_tiger_pomdp()"
   ]
  }
 ],
 "metadata": {
  "kernelspec": {
   "display_name": "Julia 1.5.2",
   "language": "julia",
   "name": "julia-1.5"
  },
  "language_info": {
   "file_extension": ".jl",
   "mimetype": "application/julia",
   "name": "julia",
   "version": "1.5.2"
  }
 },
 "nbformat": 4,
 "nbformat_minor": 5
}
