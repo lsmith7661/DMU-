{
 "cells": [
  {
   "cell_type": "code",
   "execution_count": 1,
   "id": "f662d9c8",
   "metadata": {},
   "outputs": [],
   "source": [
    "# Example from https://github.com/JuliaPOMDP/POMDPs.jl testing out my environment"
   ]
  },
  {
   "cell_type": "code",
   "execution_count": 2,
   "id": "c9abf71f",
   "metadata": {},
   "outputs": [
    {
     "name": "stdout",
     "output_type": "stream",
     "text": [
      "s: right, b: [0.5, 0.5], a: listen, o: right\n",
      "s: right, b: [0.15, 0.85], a: listen, o: right\n",
      "s: right, b: [0.0302013422818792, 0.9697986577181208], a: left, o: left\n",
      "s: right, b: [0.5, 0.5], a: listen, o: right\n",
      "s: right, b: [0.15, 0.85], a: listen, o: right\n",
      "s: right, b: [0.0302013422818792, 0.9697986577181208], a: left, o: right\n",
      "s: left, b: [0.5, 0.5], a: listen, o: left\n",
      "s: left, b: [0.85, 0.15], a: listen, o: left\n",
      "s: left, b: [0.9697986577181208, 0.0302013422818792], a: right, o: right\n",
      "s: right, b: [0.5, 0.5], a: listen, o: right\n",
      "Undiscounted reward was 23.0.\n"
     ]
    }
   ],
   "source": [
    "using POMDPs, QuickPOMDPs, POMDPModelTools, POMDPSimulators, QMDP\n",
    "\n",
    "m = QuickPOMDP(\n",
    "    states = [\"left\", \"right\"],\n",
    "    actions = [\"left\", \"right\", \"listen\"],\n",
    "    observations = [\"left\", \"right\"],\n",
    "    initialstate = Uniform([\"left\", \"right\"]),\n",
    "    discount = 0.95,\n",
    "\n",
    "    transition = function (s, a)\n",
    "        if a == \"listen\"\n",
    "            return Deterministic(s) # tiger stays behind the same door\n",
    "        else # a door is opened\n",
    "            return Uniform([\"left\", \"right\"]) # reset\n",
    "        end\n",
    "    end,\n",
    "\n",
    "    observation = function (s, a, sp)\n",
    "        if a == \"listen\"\n",
    "            if sp == \"left\"\n",
    "                return SparseCat([\"left\", \"right\"], [0.85, 0.15]) # sparse categorical distribution\n",
    "            else\n",
    "                return SparseCat([\"right\", \"left\"], [0.85, 0.15])\n",
    "            end\n",
    "        else\n",
    "            return Uniform([\"left\", \"right\"])\n",
    "        end\n",
    "    end,\n",
    "\n",
    "    reward = function (s, a)\n",
    "        if a == \"listen\"\n",
    "            return -1.0\n",
    "        elseif s == a # the tiger was found\n",
    "            return -100.0\n",
    "        else # the tiger was escaped\n",
    "            return 10.0\n",
    "        end\n",
    "    end\n",
    ")\n",
    "\n",
    "solver = QMDPSolver()\n",
    "policy = solve(solver, m)\n",
    "\n",
    "rsum = 0.0\n",
    "for (s,b,a,o,r) in stepthrough(m, policy, \"s,b,a,o,r\", max_steps=10)\n",
    "    println(\"s: $s, b: $([pdf(b,s) for s in states(m)]), a: $a, o: $o\")\n",
    "    global rsum += r\n",
    "end\n",
    "println(\"Undiscounted reward was $rsum.\")"
   ]
  }
 ],
 "metadata": {
  "kernelspec": {
   "display_name": "Julia 1.5.2",
   "language": "julia",
   "name": "julia-1.5"
  },
  "language_info": {
   "file_extension": ".jl",
   "mimetype": "application/julia",
   "name": "julia",
   "version": "1.5.2"
  }
 },
 "nbformat": 4,
 "nbformat_minor": 5
}
